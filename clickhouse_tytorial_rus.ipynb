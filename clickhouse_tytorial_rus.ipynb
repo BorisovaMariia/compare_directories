{
 "cells": [
  {
   "cell_type": "markdown",
   "metadata": {},
   "source": [
    "В этом ноутбуке:\n",
    "- установка ClickHouse на Windows\n",
    "- использование Clickhouse через консоль, Play UI, Python"
   ]
  },
  {
   "cell_type": "markdown",
   "metadata": {},
   "source": [
    "Для установки ClickHouse на Windows 10 требуется версия Ubuntu с соответствующей библиотекой \n",
    "\n",
    "(см. https://packages.ubuntu.com/search?lang=en&keywords=clickhouse&searchon=names)\n",
    "\n",
    "В данном случае устанавливалась Ubuntu 22.04.4 LTS"
   ]
  },
  {
   "cell_type": "markdown",
   "metadata": {},
   "source": [
    "Источники:\n",
    "- https://clickhouse.com/\n",
    "- https://www.comss.ru/page.php?id=4897&ysclid=l5cowhpo9363429776\n",
    "- https://clickhouse.com/docs/en/quick-start\n",
    "- https://clickhouse.com/learn/lessons/gettingstarted/\n",
    "- https://clickhouse-driver.readthedocs.io/_/downloads/en/latest/pdf/\n",
    "- https://ivan-shamaev.ru/how-to-write-data-to-clickhouse-using-python/?ysclid=l5gzx16x8313881966"
   ]
  },
  {
   "cell_type": "markdown",
   "metadata": {},
   "source": [
    "Прежде чем устанавливать Ubuntu нужно активировать компонент Windows Subsystem for Linux в Windows 10. Для этого, нажав клавиши Win + R нужно запустить команду appwiz.cpl, затем в открывшемся окне перейти на вкладку \"Включение и отключение компонентов Windows\" и поставить галочку на против нужного компонента: \"Подсистема Windows для Linux\""
   ]
  },
  {
   "cell_type": "markdown",
   "metadata": {},
   "source": [
    "После в Microsoft Store в поиске ввести Linux и скачать нужную версию Ubuntu\n",
    "\n",
    "При первом запуске среды Linux вам будет предложено ввести имя пользователя и пароль UNIX. Они не должны совпадать с вашим именем пользователя и паролем Windows, и будут использоваться в среде Linux.\n",
    "\n",
    "Вы можете запустить установленную среду Linux с помощью команды wsl. Если у вас установлено несколько дистрибутивов Linux, вы можете выбрать среду Linux по умолчанию, которую будет запускаться этой командой.\n",
    "\n",
    "\n",
    "В WSL можно использовать привычные команды терминала Linux. Если вы привыкли к стандартной командной строке Windows с ее командами DOS, вот несколько основных команд, общих для Bash и Windows:\n",
    "\n",
    "- Изменить директорию: cd в Bash, cd или chdir в DOS\n",
    "- Показать содержимое директории: ls в Bash, dir в DOS\n",
    "- Переместить или переименовать файл: mv в Bash, move и rename в DOS\n",
    "- Копировать файл: cp а Bash, copy в DOS\n",
    "- Удалить файл: rm в Bash, del или erase в DOS\n",
    "- Создать директорию: mkdir in Bash, mkdir в DOS\n",
    "- Использовать текстовые редактор: vi или nano в Bash, edit в DOS\n",
    "\n",
    "Важно помнить, что, в отличие от Windows, оболочка Bash и имитирующая ее Linux среда чувствительны к регистру. Другими словами, файл с названием “File.txt” отличается от файла с названием “file.txt”."
   ]
  },
  {
   "cell_type": "markdown",
   "metadata": {},
   "source": [
    "# Развертывание ClickHouse"
   ]
  },
  {
   "cell_type": "markdown",
   "metadata": {},
   "source": [
    "После установки Ubuntu на наш ноутбук с Windows 10 можно приступить к установке ClickHause. Cледуя шагам, предложенным в инструкции от Яндекса (https://clickhouse.com/), выполним ряд соответствующих команд в терминале Ubuntu:"
   ]
  },
  {
   "cell_type": "code",
   "execution_count": null,
   "metadata": {},
   "outputs": [],
   "source": [
    "sudo apt-get install apt-transport-https ca-certificates dirmngr"
   ]
  },
  {
   "cell_type": "code",
   "execution_count": null,
   "metadata": {},
   "outputs": [],
   "source": [
    "sudo apt-key adv --keyserver hkp://keyserver.ubuntu.com:80 --recv 8919F6BD2B48D754"
   ]
  },
  {
   "cell_type": "code",
   "execution_count": null,
   "metadata": {},
   "outputs": [],
   "source": [
    "echo \"deb https://packages.clickhouse.com/deb stable main\" | sudo tee \\\n",
    "    /etc/apt/sources.list.d/clickhouse.list\n",
    "sudo apt-get update"
   ]
  },
  {
   "cell_type": "code",
   "execution_count": null,
   "metadata": {},
   "outputs": [],
   "source": [
    "sudo apt-get install -y clickhouse-server clickhouse-client"
   ]
  },
  {
   "cell_type": "markdown",
   "metadata": {},
   "source": [
    "# Работа с ClickHouse"
   ]
  },
  {
   "cell_type": "markdown",
   "metadata": {},
   "source": [
    "Для запуска нужно выполнить следущие команды:"
   ]
  },
  {
   "cell_type": "code",
   "execution_count": null,
   "metadata": {},
   "outputs": [],
   "source": [
    "sudo clickhouse start"
   ]
  },
  {
   "cell_type": "markdown",
   "metadata": {},
   "source": [
    "# Через терминал"
   ]
  },
  {
   "cell_type": "code",
   "execution_count": null,
   "metadata": {},
   "outputs": [],
   "source": [
    "clickhouse-client # or \"clickhouse-client --password\" if you set up a password."
   ]
  },
  {
   "cell_type": "code",
   "execution_count": null,
   "metadata": {},
   "outputs": [],
   "source": [
    "SELECT *\n",
    "FROM helloworld.my_first_table\n",
    "ORDER BY timestamp"
   ]
  },
  {
   "cell_type": "code",
   "execution_count": null,
   "metadata": {},
   "outputs": [],
   "source": [
    ":) exit\n",
    "Bye."
   ]
  },
  {
   "cell_type": "markdown",
   "metadata": {},
   "source": [
    "## Для работы через ClickHouse Play UI далее перейти по ссылке http://localhost:8123/play\n",
    "- Если для пользователя вводился пароль, то ввести его в правом верхнем углу в поле password"
   ]
  },
  {
   "cell_type": "markdown",
   "metadata": {},
   "source": [
    "![image_Play_UI](ClickHouse_Play_UI.JPG)"
   ]
  },
  {
   "cell_type": "markdown",
   "metadata": {},
   "source": [
    "- SHOW DATABASES - Отображение существующих баз данных"
   ]
  },
  {
   "cell_type": "markdown",
   "metadata": {},
   "source": [
    "Создание базы данных"
   ]
  },
  {
   "cell_type": "code",
   "execution_count": null,
   "metadata": {},
   "outputs": [],
   "source": [
    "CREATE DATABASE IF NOT EXISTS hello"
   ]
  },
  {
   "cell_type": "code",
   "execution_count": null,
   "metadata": {},
   "outputs": [],
   "source": [
    "CREATE TABLE hello.my_first_table\n",
    "(\n",
    "user_id       UInt32,\n",
    "product       String,\n",
    "datetime      DateTime,\n",
    "customer      Nullable(String),\n",
    "amount        Nullable(Float32)\n",
    ")\n",
    "ENGINE = MergeTree()\n",
    "PRIMARY KEY (user_id, datetime)"
   ]
  },
  {
   "cell_type": "markdown",
   "metadata": {},
   "source": [
    "Движки таблиц (ENGINE) и их особенности:\n",
    "\n",
    "MergeTree - Наиболее универсальные и функциональные движки таблиц для задач с высокой загрузкой. Общим свойством этих движков является быстрая вставка данных с последующей фоновой обработкой данных. (MergeTree, ReplacingMergeTree, SummingMergeTree, AggregatingMergeTree, CollapsingMergeTree, VersionedCollapsingMergeTree, GraphiteMergeTree)\n",
    "\n",
    "Log - Простые движки с минимальной функциональностью. Они наиболее эффективны, когда вам нужно быстро записать много небольших таблиц (до примерно 1 миллиона строк) и прочитать их позже целиком.(TinyLog, StripeLog, Log)\n",
    "\n",
    "Движки для интеграции - Движки для связи с другими системами хранения и обработки данных. (Kafka, MySQL, ODBC, JDBC, S3)\n",
    "\n",
    "Специальные движки: ODBC, JDBC, MySQL, MongoDB, HDFS, Kafka, EmbeddedRocksDB, RabbitMQ, PostgreSQL, Distributed, MaterializedView, Dictionary, Merge, File, Null, Set, Join, URL, View, Memory, Buffer.\n",
    "\n",
    "\n"
   ]
  },
  {
   "cell_type": "code",
   "execution_count": null,
   "metadata": {},
   "outputs": [],
   "source": [
    "DESCRIBE hello.my_first_table"
   ]
  },
  {
   "cell_type": "markdown",
   "metadata": {},
   "source": [
    "Добавление данных"
   ]
  },
  {
   "cell_type": "code",
   "execution_count": null,
   "metadata": {},
   "outputs": [],
   "source": [
    "INSERT INTO helloworld.my_first_table (user_id, message, timestamp, metric) VALUES [(101, 'Hello, ClickHouse!',now(),-1.0),\n",
    "    (102, 'Insert a lot of rows per batch',                     yesterday(), 1.41421 ),\n",
    "    (102, 'Sort your data based on your commonly-used queries', today(),     2.718   ),\n",
    "    (101, 'Granules are the smallest chunks of data read',      now() + 5,   3.14159 )]"
   ]
  },
  {
   "cell_type": "code",
   "execution_count": null,
   "metadata": {},
   "outputs": [],
   "source": [
    "SELECT * FROM helloworld.my_first_table"
   ]
  },
  {
   "cell_type": "markdown",
   "metadata": {},
   "source": [
    "## Работа через Python"
   ]
  },
  {
   "cell_type": "code",
   "execution_count": null,
   "metadata": {},
   "outputs": [],
   "source": [
    "pip install clickhouse-driver"
   ]
  },
  {
   "cell_type": "code",
   "execution_count": 1,
   "metadata": {},
   "outputs": [],
   "source": [
    "from clickhouse_driver import Client\n",
    "from datetime import datetime"
   ]
  },
  {
   "cell_type": "code",
   "execution_count": 2,
   "metadata": {},
   "outputs": [],
   "source": [
    "client = Client(host='localhost')"
   ]
  },
  {
   "cell_type": "code",
   "execution_count": 3,
   "metadata": {},
   "outputs": [
    {
     "data": {
      "text/plain": [
       "[('INFORMATION_SCHEMA',), ('default',), ('information_schema',), ('system',)]"
      ]
     },
     "execution_count": 3,
     "metadata": {},
     "output_type": "execute_result"
    }
   ],
   "source": [
    "client.execute('SHOW DATABASES')"
   ]
  },
  {
   "cell_type": "code",
   "execution_count": 6,
   "metadata": {},
   "outputs": [
    {
     "data": {
      "text/plain": [
       "[]"
      ]
     },
     "execution_count": 6,
     "metadata": {},
     "output_type": "execute_result"
    }
   ],
   "source": [
    "client.execute('CREATE DATABASE IF NOT EXISTS hello')"
   ]
  },
  {
   "cell_type": "code",
   "execution_count": 7,
   "metadata": {},
   "outputs": [
    {
     "data": {
      "text/plain": [
       "[]"
      ]
     },
     "execution_count": 7,
     "metadata": {},
     "output_type": "execute_result"
    }
   ],
   "source": [
    "client.execute('CREATE TABLE hello.my_first_table (user_id INT, message String, datetime DateTime, metric Float32) ENGINE = Memory')"
   ]
  },
  {
   "cell_type": "code",
   "execution_count": 8,
   "metadata": {},
   "outputs": [
    {
     "data": {
      "text/plain": [
       "[]"
      ]
     },
     "execution_count": 8,
     "metadata": {},
     "output_type": "execute_result"
    }
   ],
   "source": [
    "client.execute(\"INSERT INTO hello.my_first_table (*) VALUES ( 1, 'product 1', '2021-10-01', 10)\")"
   ]
  },
  {
   "cell_type": "code",
   "execution_count": 9,
   "metadata": {},
   "outputs": [
    {
     "data": {
      "text/plain": [
       "[(1, 'product 1', datetime.datetime(2021, 10, 1, 0, 0), 10.0)]"
      ]
     },
     "execution_count": 9,
     "metadata": {},
     "output_type": "execute_result"
    }
   ],
   "source": [
    "client.execute('SELECT * FROM hello.my_first_table')"
   ]
  },
  {
   "cell_type": "code",
   "execution_count": 10,
   "metadata": {},
   "outputs": [
    {
     "data": {
      "text/plain": [
       "[]"
      ]
     },
     "execution_count": 10,
     "metadata": {},
     "output_type": "execute_result"
    }
   ],
   "source": [
    "client.execute('DROP TABLE IF EXISTS hello.my_first_table')"
   ]
  },
  {
   "cell_type": "code",
   "execution_count": 19,
   "metadata": {},
   "outputs": [
    {
     "data": {
      "text/plain": [
       "[]"
      ]
     },
     "execution_count": 19,
     "metadata": {},
     "output_type": "execute_result"
    }
   ],
   "source": [
    "client.execute('DROP DATABASE hello')"
   ]
  },
  {
   "cell_type": "markdown",
   "metadata": {},
   "source": [
    "## Добавление таблицы из DataFrame"
   ]
  },
  {
   "cell_type": "code",
   "execution_count": 6,
   "metadata": {},
   "outputs": [
    {
     "name": "stdout",
     "output_type": "stream",
     "text": [
      "Requirement already satisfied: clickhouse-driver[numpy] in c:\\users\\маша\\appdata\\local\\programs\\python\\python39\\lib\\site-packages (0.2.4)\n",
      "Requirement already satisfied: pytz in c:\\users\\маша\\appdata\\local\\programs\\python\\python39\\lib\\site-packages (from clickhouse-driver[numpy]) (2022.1)\n",
      "Requirement already satisfied: tzlocal in c:\\users\\маша\\appdata\\local\\programs\\python\\python39\\lib\\site-packages (from clickhouse-driver[numpy]) (4.2)\n",
      "Requirement already satisfied: pandas>=0.24.0 in c:\\users\\маша\\appdata\\local\\programs\\python\\python39\\lib\\site-packages (from clickhouse-driver[numpy]) (1.4.3)\n",
      "Requirement already satisfied: numpy>=1.12.0 in c:\\users\\маша\\appdata\\local\\programs\\python\\python39\\lib\\site-packages (from clickhouse-driver[numpy]) (1.23.0)\n",
      "Requirement already satisfied: python-dateutil>=2.8.1 in c:\\users\\маша\\appdata\\local\\programs\\python\\python39\\lib\\site-packages (from pandas>=0.24.0->clickhouse-driver[numpy]) (2.8.2)\n",
      "Requirement already satisfied: pytz-deprecation-shim in c:\\users\\маша\\appdata\\local\\programs\\python\\python39\\lib\\site-packages (from tzlocal->clickhouse-driver[numpy]) (0.1.0.post0)\n",
      "Requirement already satisfied: tzdata in c:\\users\\маша\\appdata\\local\\programs\\python\\python39\\lib\\site-packages (from tzlocal->clickhouse-driver[numpy]) (2022.1)\n",
      "Requirement already satisfied: six>=1.5 in c:\\users\\маша\\appdata\\local\\programs\\python\\python39\\lib\\site-packages (from python-dateutil>=2.8.1->pandas>=0.24.0->clickhouse-driver[numpy]) (1.16.0)\n",
      "Note: you may need to restart the kernel to use updated packages.\n"
     ]
    }
   ],
   "source": [
    "pip install clickhouse-driver[numpy]"
   ]
  },
  {
   "cell_type": "code",
   "execution_count": 4,
   "metadata": {},
   "outputs": [],
   "source": [
    "import pandas as pd\n",
    "import numpy as np"
   ]
  },
  {
   "cell_type": "code",
   "execution_count": 8,
   "metadata": {},
   "outputs": [],
   "source": [
    "client = Client(host='localhost', settings={'use_numpy': True})"
   ]
  },
  {
   "cell_type": "code",
   "execution_count": 26,
   "metadata": {},
   "outputs": [
    {
     "data": {
      "text/plain": [
       "[]"
      ]
     },
     "execution_count": 26,
     "metadata": {},
     "output_type": "execute_result"
    }
   ],
   "source": [
    "client.execute('CREATE DATABASE IF NOT EXISTS hello')"
   ]
  },
  {
   "cell_type": "code",
   "execution_count": 27,
   "metadata": {},
   "outputs": [
    {
     "data": {
      "text/plain": [
       "[]"
      ]
     },
     "execution_count": 27,
     "metadata": {},
     "output_type": "execute_result"
    }
   ],
   "source": [
    "client.execute('CREATE TABLE hello.my_first_table (user_id INT, product String, datetime DateTime, amount Float32) ENGINE = Memory')"
   ]
  },
  {
   "cell_type": "code",
   "execution_count": 28,
   "metadata": {},
   "outputs": [
    {
     "name": "stdout",
     "output_type": "stream",
     "text": [
      "   user_id      product    datetime  amount\n",
      "0      152  product 152  2021-10-04       4\n",
      "1      153  product 153  2021-10-06       5\n",
      "2      154  product 154  2021-10-07       7\n"
     ]
    }
   ],
   "source": [
    "# Creating Dataframe \n",
    "df = pd.DataFrame([\n",
    "                    [152, 'product 152', '2021-10-04', 4], \n",
    "                    [153, 'product 153', '2021-10-06', 5], \n",
    "                    [154, 'product 154', '2021-10-07', 7]\n",
    "                  ],\n",
    "                  columns =['user_id', 'product', 'datetime', 'amount'])\n",
    "print(df)"
   ]
  },
  {
   "cell_type": "code",
   "execution_count": 29,
   "metadata": {},
   "outputs": [
    {
     "data": {
      "text/plain": [
       "3"
      ]
     },
     "execution_count": 29,
     "metadata": {},
     "output_type": "execute_result"
    }
   ],
   "source": [
    "client.insert_dataframe(f'INSERT INTO hello.my_first_table VALUES', df)"
   ]
  },
  {
   "cell_type": "code",
   "execution_count": 30,
   "metadata": {},
   "outputs": [
    {
     "data": {
      "text/html": [
       "<div>\n",
       "<style scoped>\n",
       "    .dataframe tbody tr th:only-of-type {\n",
       "        vertical-align: middle;\n",
       "    }\n",
       "\n",
       "    .dataframe tbody tr th {\n",
       "        vertical-align: top;\n",
       "    }\n",
       "\n",
       "    .dataframe thead th {\n",
       "        text-align: right;\n",
       "    }\n",
       "</style>\n",
       "<table border=\"1\" class=\"dataframe\">\n",
       "  <thead>\n",
       "    <tr style=\"text-align: right;\">\n",
       "      <th></th>\n",
       "      <th>user_id</th>\n",
       "      <th>product</th>\n",
       "      <th>datetime</th>\n",
       "      <th>amount</th>\n",
       "    </tr>\n",
       "  </thead>\n",
       "  <tbody>\n",
       "    <tr>\n",
       "      <th>0</th>\n",
       "      <td>152</td>\n",
       "      <td>product 152</td>\n",
       "      <td>2021-10-04</td>\n",
       "      <td>4.0</td>\n",
       "    </tr>\n",
       "    <tr>\n",
       "      <th>1</th>\n",
       "      <td>153</td>\n",
       "      <td>product 153</td>\n",
       "      <td>2021-10-06</td>\n",
       "      <td>5.0</td>\n",
       "    </tr>\n",
       "    <tr>\n",
       "      <th>2</th>\n",
       "      <td>154</td>\n",
       "      <td>product 154</td>\n",
       "      <td>2021-10-07</td>\n",
       "      <td>7.0</td>\n",
       "    </tr>\n",
       "  </tbody>\n",
       "</table>\n",
       "</div>"
      ],
      "text/plain": [
       "   user_id      product   datetime  amount\n",
       "0      152  product 152 2021-10-04     4.0\n",
       "1      153  product 153 2021-10-06     5.0\n",
       "2      154  product 154 2021-10-07     7.0"
      ]
     },
     "execution_count": 30,
     "metadata": {},
     "output_type": "execute_result"
    }
   ],
   "source": [
    "client.query_dataframe('SELECT * FROM hello.my_first_table VALUES')"
   ]
  },
  {
   "cell_type": "code",
   "execution_count": 31,
   "metadata": {},
   "outputs": [
    {
     "data": {
      "text/plain": [
       "[]"
      ]
     },
     "execution_count": 31,
     "metadata": {},
     "output_type": "execute_result"
    }
   ],
   "source": [
    "client.execute('DROP DATABASE hello')"
   ]
  },
  {
   "cell_type": "markdown",
   "metadata": {},
   "source": [
    "## Вставка данных из csv"
   ]
  },
  {
   "cell_type": "code",
   "execution_count": 32,
   "metadata": {},
   "outputs": [],
   "source": [
    "from csv import DictReader"
   ]
  },
  {
   "cell_type": "code",
   "execution_count": 33,
   "metadata": {},
   "outputs": [],
   "source": [
    "def iter_csv(filename):\n",
    "    converters = {\n",
    "        'qty': int,\n",
    "        'time': lambda x: datetime.strptime(x, '%Y-%m-%d %H:%M:%S')\n",
    "    }\n",
    "\n",
    "    with open(filename, 'r') as f:\n",
    "        reader = DictReader(f)\n",
    "        for line in reader:\n",
    "            yield {k: (converters[k](v) if k in converters else v) for k,v in line.items()}"
   ]
  },
  {
   "cell_type": "code",
   "execution_count": 34,
   "metadata": {},
   "outputs": [],
   "source": [
    "client = Client('localhost')"
   ]
  },
  {
   "cell_type": "code",
   "execution_count": 35,
   "metadata": {},
   "outputs": [
    {
     "data": {
      "text/plain": [
       "[]"
      ]
     },
     "execution_count": 35,
     "metadata": {},
     "output_type": "execute_result"
    }
   ],
   "source": [
    "client.execute('CREATE TABLE IF NOT EXISTS data_csv '\n",
    "    '('\n",
    "    'time DateTime, '\n",
    "    'order String, '\n",
    "    'qty Int32'\n",
    "    ') Engine = Memory'\n",
    "    )"
   ]
  },
  {
   "cell_type": "code",
   "execution_count": 39,
   "metadata": {},
   "outputs": [],
   "source": [
    "df = pd.DataFrame([\n",
    "                    ['2021-10-04 15:23:14', 'product 152', 4], \n",
    "                    ['2021-10-06 06:14:45', 'product 153', 5], \n",
    "                    ['2021-10-07 12:20:32', 'product 154', 7]\n",
    "                  ],\n",
    "                  columns =['time', 'order', 'qty'])\n",
    "df.to_csv('data.csv')"
   ]
  },
  {
   "cell_type": "code",
   "execution_count": 40,
   "metadata": {},
   "outputs": [
    {
     "data": {
      "text/plain": [
       "3"
      ]
     },
     "execution_count": 40,
     "metadata": {},
     "output_type": "execute_result"
    }
   ],
   "source": [
    "client.execute('INSERT INTO data_csv VALUES', iter_csv('data.csv'))"
   ]
  },
  {
   "cell_type": "code",
   "execution_count": 42,
   "metadata": {},
   "outputs": [
    {
     "data": {
      "text/html": [
       "<div>\n",
       "<style scoped>\n",
       "    .dataframe tbody tr th:only-of-type {\n",
       "        vertical-align: middle;\n",
       "    }\n",
       "\n",
       "    .dataframe tbody tr th {\n",
       "        vertical-align: top;\n",
       "    }\n",
       "\n",
       "    .dataframe thead th {\n",
       "        text-align: right;\n",
       "    }\n",
       "</style>\n",
       "<table border=\"1\" class=\"dataframe\">\n",
       "  <thead>\n",
       "    <tr style=\"text-align: right;\">\n",
       "      <th></th>\n",
       "      <th>time</th>\n",
       "      <th>order</th>\n",
       "      <th>qty</th>\n",
       "    </tr>\n",
       "  </thead>\n",
       "  <tbody>\n",
       "    <tr>\n",
       "      <th>0</th>\n",
       "      <td>2021-10-04 15:23:14</td>\n",
       "      <td>product 152</td>\n",
       "      <td>4</td>\n",
       "    </tr>\n",
       "    <tr>\n",
       "      <th>1</th>\n",
       "      <td>2021-10-06 06:14:45</td>\n",
       "      <td>product 153</td>\n",
       "      <td>5</td>\n",
       "    </tr>\n",
       "    <tr>\n",
       "      <th>2</th>\n",
       "      <td>2021-10-07 12:20:32</td>\n",
       "      <td>product 154</td>\n",
       "      <td>7</td>\n",
       "    </tr>\n",
       "  </tbody>\n",
       "</table>\n",
       "</div>"
      ],
      "text/plain": [
       "                 time        order  qty\n",
       "0 2021-10-04 15:23:14  product 152    4\n",
       "1 2021-10-06 06:14:45  product 153    5\n",
       "2 2021-10-07 12:20:32  product 154    7"
      ]
     },
     "execution_count": 42,
     "metadata": {},
     "output_type": "execute_result"
    }
   ],
   "source": [
    "client.query_dataframe('SELECT * FROM data_csv VALUES')"
   ]
  },
  {
   "cell_type": "code",
   "execution_count": 45,
   "metadata": {},
   "outputs": [
    {
     "data": {
      "text/plain": [
       "[]"
      ]
     },
     "execution_count": 45,
     "metadata": {},
     "output_type": "execute_result"
    }
   ],
   "source": [
    "client.execute('DROP TABLE data_csv')"
   ]
  },
  {
   "cell_type": "code",
   "execution_count": null,
   "metadata": {},
   "outputs": [],
   "source": []
  }
 ],
 "metadata": {
  "kernelspec": {
   "display_name": "Python 3.9.13 64-bit (system)",
   "language": "python",
   "name": "python3"
  },
  "language_info": {
   "codemirror_mode": {
    "name": "ipython",
    "version": 3
   },
   "file_extension": ".py",
   "mimetype": "text/x-python",
   "name": "python",
   "nbconvert_exporter": "python",
   "pygments_lexer": "ipython3",
   "version": "3.9.13"
  },
  "orig_nbformat": 4,
  "vscode": {
   "interpreter": {
    "hash": "db514bc0c379c0e5011918c03c12cd806c140a33f7da6525240d3031e4546ce0"
   }
  }
 },
 "nbformat": 4,
 "nbformat_minor": 2
}
