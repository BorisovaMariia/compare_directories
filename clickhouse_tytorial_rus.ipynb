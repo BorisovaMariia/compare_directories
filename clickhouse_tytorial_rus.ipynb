{
 "cells": [
  {
   "cell_type": "markdown",
   "metadata": {},
   "source": [
    "Для установки ClickHouse на Windows 10 требуется версия Ubuntu с соответствующей библиотекой \n",
    "\n",
    "(см. https://packages.ubuntu.com/search?lang=en&keywords=clickhouse&searchon=names)\n",
    "\n",
    "В данном случае устанавливалась Ubuntu 20.04.4 LTS"
   ]
  },
  {
   "cell_type": "markdown",
   "metadata": {},
   "source": [
    "Источники:\n",
    "- https://clickhouse.com/\n",
    "- https://www.comss.ru/page.php?id=4897&ysclid=l5cowhpo9363429776\n",
    "- https://clickhouse.com/docs/en/quick-start\n",
    "- https://clickhouse.com/learn/lessons/gettingstarted/"
   ]
  },
  {
   "cell_type": "markdown",
   "metadata": {},
   "source": [
    "Прежде чем устанавливать Ubuntu нужно активировать компонент Windows Subsystem for Linux в Windows 10. Для этого, нажав клавиши Win + R нужно запустить команду appwiz.cpl, затем в открывшемся окне перейти на вкладку \"Включение и отключение компонентов Windows\" и поставить галочку на против нужного компонента: \"Подсистема Windows для Linux\""
   ]
  },
  {
   "cell_type": "markdown",
   "metadata": {},
   "source": [
    "После в Microsoft Store в поиске ввести Linux и скачать нужную версию Ubuntu\n",
    "\n",
    "При первом запуске среды Linux вам будет предложено ввести имя пользователя и пароль UNIX. Они не должны совпадать с вашим именем пользователя и паролем Windows, и будут использоваться в среде Linux.\n",
    "\n",
    "Вы можете запустить установленную среду Linux с помощью команды wsl. Если у вас установлено несколько дистрибутивов Linux, вы можете выбрать среду Linux по умолчанию, которую будет запускаться этой командой.\n",
    "\n",
    "\n",
    "В WSL можно использовать привычные команды терминала Linux. Если вы привыкли к стандартной командной строке Windows с ее командами DOS, вот несколько основных команд, общих для Bash и Windows:\n",
    "\n",
    "- Изменить директорию: cd в Bash, cd или chdir в DOS\n",
    "- Показать содержимое директории: ls в Bash, dir в DOS\n",
    "- Переместить или переименовать файл: mv в Bash, move и rename в DOS\n",
    "- Копировать файл: cp а Bash, copy в DOS\n",
    "- Удалить файл: rm в Bash, del или erase в DOS\n",
    "- Создать директорию: mkdir in Bash, mkdir в DOS\n",
    "- Использовать текстовые редактор: vi или nano в Bash, edit в DOS\n",
    "\n",
    "Важно помнить, что, в отличие от Windows, оболочка Bash и имитирующая ее Linux среда чувствительны к регистру. Другими словами, файл с названием “File.txt” отличается от файла с названием “file.txt”."
   ]
  },
  {
   "cell_type": "markdown",
   "metadata": {},
   "source": [
    "# Развертывание ClickHouse"
   ]
  },
  {
   "cell_type": "markdown",
   "metadata": {},
   "source": [
    "После установки Ubuntu на наш ноутбук с Windows 10 можно приступить к установке ClickHause. Cледуя шагам, предложенным в инструкции от Яндекса (https://clickhouse.com/), выполним ряд соответствующих команд в терминале Ubuntu:"
   ]
  },
  {
   "cell_type": "markdown",
   "metadata": {},
   "source": [
    "дополнительно нужно сконфигурировать в развернутой Ubuntu региональную временную зону"
   ]
  },
  {
   "cell_type": "code",
   "execution_count": null,
   "metadata": {},
   "outputs": [],
   "source": [
    "sudo dpkg-reconfigure tzdata"
   ]
  },
  {
   "cell_type": "code",
   "execution_count": null,
   "metadata": {},
   "outputs": [],
   "source": [
    "sudo apt-get install apt-transport-https ca-certificates dirmngr\n",
    "sudo apt-key adv --keyserver hkp://keyserver.ubuntu.com:80 --recv 8919F6BD2B48D754\n",
    "\n",
    "echo \"deb https://packages.clickhouse.com/deb stable main\" | sudo tee \\\n",
    "    /etc/apt/sources.list.d/clickhouse.list\n",
    "sudo apt-get update\n",
    "\n",
    "sudo apt-get install -y clickhouse-server clickhouse-client\n",
    "\n",
    "sudo service clickhouse-server start\n",
    "clickhouse-client # or \"clickhouse-client --password\" if you set up a password."
   ]
  },
  {
   "cell_type": "markdown",
   "metadata": {},
   "source": [
    "# Работа с ClickHouse через терминал"
   ]
  },
  {
   "cell_type": "markdown",
   "metadata": {},
   "source": [
    "## Для работы через ClickHouse Play UI далее перейти по ссылке http://localhost:8123/play\n",
    "- Если для пользователя вводился пароль, то ввести его в правом верхнем углу в поле password"
   ]
  },
  {
   "cell_type": "markdown",
   "metadata": {},
   "source": [
    "![image_Play_UI](ClickHouse_Play_UI.JPG)"
   ]
  },
  {
   "cell_type": "markdown",
   "metadata": {},
   "source": [
    "- SHOW DATABASES - Отображение существующих баз данных"
   ]
  },
  {
   "cell_type": "markdown",
   "metadata": {},
   "source": [
    "Создание базы данных"
   ]
  },
  {
   "cell_type": "markdown",
   "metadata": {},
   "source": [
    "CREATE DATABASE IF NOT EXISTS helloworld"
   ]
  },
  {
   "cell_type": "code",
   "execution_count": null,
   "metadata": {},
   "outputs": [],
   "source": [
    "CREATE TABLE helloworld.my_first_table\n",
    "(\n",
    "    user_id UInt32,\n",
    "    message String,\n",
    "    timestamp DateTime,\n",
    "    metric Float32\n",
    ")\n",
    "ENGINE = MergeTree()\n",
    "PRIMARY KEY (user_id, timestamp)"
   ]
  },
  {
   "cell_type": "code",
   "execution_count": null,
   "metadata": {},
   "outputs": [],
   "source": [
    "DESCRIBE helloworld.my_first_table"
   ]
  },
  {
   "cell_type": "markdown",
   "metadata": {},
   "source": [
    "Добавление данных"
   ]
  },
  {
   "cell_type": "code",
   "execution_count": null,
   "metadata": {},
   "outputs": [],
   "source": [
    "INSERT INTO helloworld.my_first_table (user_id, message, timestamp, metric) VALUES\n",
    "    (101, 'Hello, ClickHouse!',                                 now(),       -1.0    ),\n",
    "    (102, 'Insert a lot of rows per batch',                     yesterday(), 1.41421 ),\n",
    "    (102, 'Sort your data based on your commonly-used queries', today(),     2.718   ),\n",
    "    (101, 'Granules are the smallest chunks of data read',      now() + 5,   3.14159 )"
   ]
  },
  {
   "cell_type": "code",
   "execution_count": null,
   "metadata": {},
   "outputs": [],
   "source": [
    "SELECT * FROM helloworld.my_first_table"
   ]
  },
  {
   "cell_type": "markdown",
   "metadata": {},
   "source": [
    "## Работа черех Ubuntu"
   ]
  },
  {
   "cell_type": "code",
   "execution_count": null,
   "metadata": {},
   "outputs": [],
   "source": [
    "clickhouse-client"
   ]
  },
  {
   "cell_type": "code",
   "execution_count": null,
   "metadata": {},
   "outputs": [],
   "source": [
    "SELECT *\n",
    "FROM helloworld.my_first_table\n",
    "ORDER BY timestamp"
   ]
  },
  {
   "cell_type": "code",
   "execution_count": null,
   "metadata": {},
   "outputs": [],
   "source": [
    ":) exit\n",
    "Bye."
   ]
  }
 ],
 "metadata": {
  "kernelspec": {
   "display_name": "Python 3.9.13 64-bit (system)",
   "language": "python",
   "name": "python3"
  },
  "language_info": {
   "codemirror_mode": {
    "name": "ipython",
    "version": 3
   },
   "file_extension": ".py",
   "mimetype": "text/x-python",
   "name": "python",
   "nbconvert_exporter": "python",
   "pygments_lexer": "ipython3",
   "version": "3.9.13"
  },
  "orig_nbformat": 4,
  "vscode": {
   "interpreter": {
    "hash": "db514bc0c379c0e5011918c03c12cd806c140a33f7da6525240d3031e4546ce0"
   }
  }
 },
 "nbformat": 4,
 "nbformat_minor": 2
}
